{
  "nbformat": 4,
  "nbformat_minor": 0,
  "metadata": {
    "colab": {
      "name": "Pertemuan I Hacktiv8.ipynb",
      "provenance": []
    },
    "kernelspec": {
      "name": "python3",
      "display_name": "Python 3"
    },
    "language_info": {
      "name": "python"
    }
  },
  "cells": [
    {
      "cell_type": "markdown",
      "source": [
        "NAMA = RIKO FAJARUDIN\n",
        "KELAS = PYTN-KS-010"
      ],
      "metadata": {
        "id": "KT8jO2WnUM56"
      }
    },
    {
      "cell_type": "code",
      "execution_count": null,
      "metadata": {
        "colab": {
          "base_uri": "https://localhost:8080/"
        },
        "id": "mnQ4LFXU-JYz",
        "outputId": "ae16cb9c-4e94-42e8-d46d-71fbf34f4052"
      },
      "outputs": [
        {
          "output_type": "stream",
          "name": "stdout",
          "text": [
            "Hello World\n"
          ]
        }
      ],
      "source": [
        "print('Hello World')"
      ]
    },
    {
      "cell_type": "code",
      "source": [
        "#tipe data tunggal\n",
        "print(3512)"
      ],
      "metadata": {
        "colab": {
          "base_uri": "https://localhost:8080/"
        },
        "id": "6jtKegfF_Dm1",
        "outputId": "e9da95ac-374c-4e3f-b57a-a95c3f8e3bb1"
      },
      "execution_count": null,
      "outputs": [
        {
          "output_type": "stream",
          "name": "stdout",
          "text": [
            "3512\n"
          ]
        }
      ]
    },
    {
      "cell_type": "code",
      "source": [
        "type(3512)"
      ],
      "metadata": {
        "colab": {
          "base_uri": "https://localhost:8080/"
        },
        "id": "UhvJ0dUqAIfK",
        "outputId": "9398d74e-9078-482a-ed19-b23eda8e5ac2"
      },
      "execution_count": null,
      "outputs": [
        {
          "output_type": "execute_result",
          "data": {
            "text/plain": [
              "int"
            ]
          },
          "metadata": {},
          "execution_count": 4
        }
      ]
    },
    {
      "cell_type": "code",
      "source": [
        "print(3.1415)"
      ],
      "metadata": {
        "colab": {
          "base_uri": "https://localhost:8080/"
        },
        "id": "HjG6N_ClAK94",
        "outputId": "6c22a95d-e85d-44ec-8dbb-38db4cffb3ef"
      },
      "execution_count": null,
      "outputs": [
        {
          "output_type": "stream",
          "name": "stdout",
          "text": [
            "3.1415\n"
          ]
        }
      ]
    },
    {
      "cell_type": "code",
      "source": [
        "type(3.1415)"
      ],
      "metadata": {
        "colab": {
          "base_uri": "https://localhost:8080/"
        },
        "id": "zs3PBlxPAOcr",
        "outputId": "15c7121d-b19e-4c49-e060-0252b561e73e"
      },
      "execution_count": null,
      "outputs": [
        {
          "output_type": "execute_result",
          "data": {
            "text/plain": [
              "float"
            ]
          },
          "metadata": {},
          "execution_count": 6
        }
      ]
    },
    {
      "cell_type": "code",
      "source": [
        "print(3+2j)"
      ],
      "metadata": {
        "colab": {
          "base_uri": "https://localhost:8080/"
        },
        "id": "0FZqAR7PARWh",
        "outputId": "497a9e68-0d3d-48e0-b3cf-188addab9ba3"
      },
      "execution_count": null,
      "outputs": [
        {
          "output_type": "stream",
          "name": "stdout",
          "text": [
            "(3+2j)\n"
          ]
        }
      ]
    },
    {
      "cell_type": "code",
      "source": [
        "type(3+2j)"
      ],
      "metadata": {
        "colab": {
          "base_uri": "https://localhost:8080/"
        },
        "id": "55nLceOoAU1x",
        "outputId": "7337b7e8-b9d7-4cb8-ac91-7b5cda191d71"
      },
      "execution_count": null,
      "outputs": [
        {
          "output_type": "execute_result",
          "data": {
            "text/plain": [
              "complex"
            ]
          },
          "metadata": {},
          "execution_count": 8
        }
      ]
    },
    {
      "cell_type": "code",
      "source": [
        "print(4.0)\n",
        "type(4.0)"
      ],
      "metadata": {
        "colab": {
          "base_uri": "https://localhost:8080/"
        },
        "id": "WuTLVEprApyy",
        "outputId": "ac83026d-72ef-4026-9b98-cd117835ef43"
      },
      "execution_count": null,
      "outputs": [
        {
          "output_type": "stream",
          "name": "stdout",
          "text": [
            "4.0\n"
          ]
        },
        {
          "output_type": "execute_result",
          "data": {
            "text/plain": [
              "float"
            ]
          },
          "metadata": {},
          "execution_count": 9
        }
      ]
    },
    {
      "cell_type": "code",
      "source": [
        "print(True)"
      ],
      "metadata": {
        "colab": {
          "base_uri": "https://localhost:8080/"
        },
        "id": "xqou8rvMA89h",
        "outputId": "fdfa4586-8a6f-4d58-b14d-b59c4039745f"
      },
      "execution_count": null,
      "outputs": [
        {
          "output_type": "stream",
          "name": "stdout",
          "text": [
            "True\n"
          ]
        }
      ]
    },
    {
      "cell_type": "code",
      "source": [
        "print(True)\n",
        "type(True)"
      ],
      "metadata": {
        "colab": {
          "base_uri": "https://localhost:8080/"
        },
        "id": "0mSbGy5lBEFt",
        "outputId": "8203a55d-a702-4338-d0db-ce10d6850559"
      },
      "execution_count": null,
      "outputs": [
        {
          "output_type": "stream",
          "name": "stdout",
          "text": [
            "True\n"
          ]
        },
        {
          "output_type": "execute_result",
          "data": {
            "text/plain": [
              "bool"
            ]
          },
          "metadata": {},
          "execution_count": 11
        }
      ]
    },
    {
      "cell_type": "code",
      "source": [
        "print('halo dunia')"
      ],
      "metadata": {
        "colab": {
          "base_uri": "https://localhost:8080/"
        },
        "id": "z269tVZhBWX2",
        "outputId": "6e6e501e-c85a-4499-ca17-5ec9b46399c1"
      },
      "execution_count": null,
      "outputs": [
        {
          "output_type": "stream",
          "name": "stdout",
          "text": [
            "halo dunia\n"
          ]
        }
      ]
    },
    {
      "cell_type": "code",
      "source": [
        "print('Hactiv8')\n",
        "print(type('hactiv8'))"
      ],
      "metadata": {
        "colab": {
          "base_uri": "https://localhost:8080/"
        },
        "id": "Aiihai5ABx49",
        "outputId": "289d47ec-701f-4b4f-bde2-7865641f73da"
      },
      "execution_count": null,
      "outputs": [
        {
          "output_type": "stream",
          "name": "stdout",
          "text": [
            "Hactiv8\n",
            "<class 'str'>\n"
          ]
        }
      ]
    },
    {
      "cell_type": "code",
      "source": [
        "print('46')\n",
        "type('46')"
      ],
      "metadata": {
        "colab": {
          "base_uri": "https://localhost:8080/"
        },
        "id": "sr3FLq7NB7cL",
        "outputId": "96f83d03-0c69-4d82-b638-d0ebe521198b"
      },
      "execution_count": null,
      "outputs": [
        {
          "output_type": "stream",
          "name": "stdout",
          "text": [
            "46\n"
          ]
        },
        {
          "output_type": "execute_result",
          "data": {
            "text/plain": [
              "str"
            ]
          },
          "metadata": {},
          "execution_count": 14
        }
      ]
    },
    {
      "cell_type": "code",
      "source": [
        "print('Nama Saya Afif')\n",
        "type('Nama Saya Afif')"
      ],
      "metadata": {
        "colab": {
          "base_uri": "https://localhost:8080/"
        },
        "id": "s9db0_38CFIG",
        "outputId": "de3fc3bf-1822-4751-dd99-049754189805"
      },
      "execution_count": null,
      "outputs": [
        {
          "output_type": "stream",
          "name": "stdout",
          "text": [
            "Nama Saya Afif\n"
          ]
        },
        {
          "output_type": "execute_result",
          "data": {
            "text/plain": [
              "str"
            ]
          },
          "metadata": {},
          "execution_count": 15
        }
      ]
    },
    {
      "cell_type": "markdown",
      "source": [
        "Variabel"
      ],
      "metadata": {
        "id": "mW-VZsldEK-K"
      }
    },
    {
      "cell_type": "code",
      "source": [
        "a=12"
      ],
      "metadata": {
        "id": "--N1imDLCcU2"
      },
      "execution_count": null,
      "outputs": []
    },
    {
      "cell_type": "code",
      "source": [
        "print(a)\n",
        "type(a)"
      ],
      "metadata": {
        "colab": {
          "base_uri": "https://localhost:8080/"
        },
        "id": "WPXxobA8ET1D",
        "outputId": "0265019c-1364-48e3-b2c6-73e2393cb001"
      },
      "execution_count": null,
      "outputs": [
        {
          "output_type": "stream",
          "name": "stdout",
          "text": [
            "12\n"
          ]
        },
        {
          "output_type": "execute_result",
          "data": {
            "text/plain": [
              "int"
            ]
          },
          "metadata": {},
          "execution_count": 17
        }
      ]
    },
    {
      "cell_type": "code",
      "source": [
        "a=7.5\n",
        "print(a)\n",
        "type(a)"
      ],
      "metadata": {
        "colab": {
          "base_uri": "https://localhost:8080/"
        },
        "id": "64v-cSeZElt7",
        "outputId": "f5b20b97-fe79-468f-c0f1-e5fbb23bd83a"
      },
      "execution_count": null,
      "outputs": [
        {
          "output_type": "stream",
          "name": "stdout",
          "text": [
            "7.5\n"
          ]
        },
        {
          "output_type": "execute_result",
          "data": {
            "text/plain": [
              "float"
            ]
          },
          "metadata": {},
          "execution_count": 18
        }
      ]
    },
    {
      "cell_type": "code",
      "source": [
        "angka_1, angka_2=7, 15.2\n",
        "print(angka_1)"
      ],
      "metadata": {
        "colab": {
          "base_uri": "https://localhost:8080/"
        },
        "id": "C2ZpfknqErTM",
        "outputId": "40f9c2f7-c40e-4878-cf1b-9503cb396f7e"
      },
      "execution_count": null,
      "outputs": [
        {
          "output_type": "stream",
          "name": "stdout",
          "text": [
            "7\n"
          ]
        }
      ]
    },
    {
      "cell_type": "code",
      "source": [
        "print(angka_2)"
      ],
      "metadata": {
        "colab": {
          "base_uri": "https://localhost:8080/"
        },
        "id": "Fn4Ry0A9FE1Q",
        "outputId": "9dab0ecf-7a20-4eaa-dfa6-fac898477a7c"
      },
      "execution_count": null,
      "outputs": [
        {
          "output_type": "stream",
          "name": "stdout",
          "text": [
            "15.2\n"
          ]
        }
      ]
    },
    {
      "cell_type": "code",
      "source": [
        "nama='Afif A. Iskandar'\n",
        "print(nama)\n",
        "type(nama)"
      ],
      "metadata": {
        "colab": {
          "base_uri": "https://localhost:8080/"
        },
        "id": "tyqwKJzUFJok",
        "outputId": "0908fd1e-0855-45f4-8d70-26610ac97dca"
      },
      "execution_count": null,
      "outputs": [
        {
          "output_type": "stream",
          "name": "stdout",
          "text": [
            "Afif A. Iskandar\n"
          ]
        },
        {
          "output_type": "execute_result",
          "data": {
            "text/plain": [
              "str"
            ]
          },
          "metadata": {},
          "execution_count": 23
        }
      ]
    },
    {
      "cell_type": "markdown",
      "source": [
        "Operasi"
      ],
      "metadata": {
        "id": "QZHSX8tAHc9h"
      }
    },
    {
      "cell_type": "code",
      "source": [
        "5+3"
      ],
      "metadata": {
        "colab": {
          "base_uri": "https://localhost:8080/"
        },
        "id": "MgOD4lZ1Fsm_",
        "outputId": "ec1a309c-686e-4721-c971-84266e1587c2"
      },
      "execution_count": null,
      "outputs": [
        {
          "output_type": "execute_result",
          "data": {
            "text/plain": [
              "8"
            ]
          },
          "metadata": {},
          "execution_count": 24
        }
      ]
    },
    {
      "cell_type": "code",
      "source": [
        "a=5\n",
        "b=4\n",
        "a//b"
      ],
      "metadata": {
        "colab": {
          "base_uri": "https://localhost:8080/"
        },
        "id": "w_6BAxKIHf2T",
        "outputId": "fc827923-3820-46db-f557-ed2be983539b"
      },
      "execution_count": null,
      "outputs": [
        {
          "output_type": "execute_result",
          "data": {
            "text/plain": [
              "1"
            ]
          },
          "metadata": {},
          "execution_count": 26
        }
      ]
    },
    {
      "cell_type": "code",
      "source": [
        "a%b"
      ],
      "metadata": {
        "colab": {
          "base_uri": "https://localhost:8080/"
        },
        "id": "cj1iVVW6H60z",
        "outputId": "55ebf4bf-d17c-455c-e221-7c9cc5008293"
      },
      "execution_count": null,
      "outputs": [
        {
          "output_type": "execute_result",
          "data": {
            "text/plain": [
              "1"
            ]
          },
          "metadata": {},
          "execution_count": 27
        }
      ]
    },
    {
      "cell_type": "code",
      "source": [
        "#aritmatika\n",
        "print(a+b)\n",
        "print(a*b)"
      ],
      "metadata": {
        "colab": {
          "base_uri": "https://localhost:8080/"
        },
        "id": "TCcEzgqcIVV2",
        "outputId": "e9b55857-7093-4dd2-82ee-e1c39165a11f"
      },
      "execution_count": null,
      "outputs": [
        {
          "output_type": "stream",
          "name": "stdout",
          "text": [
            "9\n",
            "20\n"
          ]
        }
      ]
    },
    {
      "cell_type": "code",
      "source": [
        "#string\n",
        "nama_depan= 'Ngoding'\n",
        "nama_belakang= 'Python'\n",
        "print(nama_depan+nama_belakang)"
      ],
      "metadata": {
        "colab": {
          "base_uri": "https://localhost:8080/"
        },
        "id": "X2zpyM18IbwF",
        "outputId": "9e29709b-9bf2-44bc-c7ec-eeff00ef4af0"
      },
      "execution_count": null,
      "outputs": [
        {
          "output_type": "stream",
          "name": "stdout",
          "text": [
            "NgodingPython\n"
          ]
        }
      ]
    },
    {
      "cell_type": "code",
      "source": [
        "print(nama_depan*5)"
      ],
      "metadata": {
        "colab": {
          "base_uri": "https://localhost:8080/"
        },
        "id": "I_LQV_CcIra1",
        "outputId": "cc1a36f3-0898-4814-b9cd-668796e1c96d"
      },
      "execution_count": null,
      "outputs": [
        {
          "output_type": "stream",
          "name": "stdout",
          "text": [
            "NgodingNgodingNgodingNgodingNgoding\n"
          ]
        }
      ]
    },
    {
      "cell_type": "code",
      "source": [
        "#perbandingan\n",
        "a=10\n",
        "b=5\n",
        "print(a>b)"
      ],
      "metadata": {
        "colab": {
          "base_uri": "https://localhost:8080/"
        },
        "id": "knm1kIHkLSYk",
        "outputId": "33bc898f-b6ff-438f-8eff-eaa932a197ba"
      },
      "execution_count": null,
      "outputs": [
        {
          "output_type": "stream",
          "name": "stdout",
          "text": [
            "True\n"
          ]
        }
      ]
    },
    {
      "cell_type": "code",
      "source": [
        "#logika\n",
        "print(False or True)"
      ],
      "metadata": {
        "colab": {
          "base_uri": "https://localhost:8080/"
        },
        "id": "4pG4R2VGLYLZ",
        "outputId": "2d6c25d3-8fd0-45bf-9164-e0b1ad9d5be9"
      },
      "execution_count": null,
      "outputs": [
        {
          "output_type": "stream",
          "name": "stdout",
          "text": [
            "True\n"
          ]
        }
      ]
    },
    {
      "cell_type": "code",
      "source": [
        "nama='NgodingPython channel'\n",
        "print(nama.capitalize())\n",
        "print(nama.upper())\n",
        "print(nama.lower())\n",
        "print(nama.title())\n",
        "print(nama.swapcase())"
      ],
      "metadata": {
        "colab": {
          "base_uri": "https://localhost:8080/"
        },
        "id": "WkpXw3zML1ue",
        "outputId": "c9ef7cdd-6002-45c0-996f-125ece5f90ee"
      },
      "execution_count": null,
      "outputs": [
        {
          "output_type": "stream",
          "name": "stdout",
          "text": [
            "Ngodingpython channel\n",
            "NGODINGPYTHON CHANNEL\n",
            "ngodingpython channel\n",
            "Ngodingpython Channel\n",
            "nGODINGpYTHON CHANNEL\n"
          ]
        }
      ]
    },
    {
      "cell_type": "markdown",
      "source": [
        "Tipe Data Majemuk"
      ],
      "metadata": {
        "id": "GOgoKhw1MlqA"
      }
    },
    {
      "cell_type": "code",
      "source": [
        "#tuple dan list\n",
        "my_tuple=(53,45.2, True, 'Afif', (1,2,3))\n",
        "print(my_tuple)\n",
        "type(my_tuple)"
      ],
      "metadata": {
        "colab": {
          "base_uri": "https://localhost:8080/"
        },
        "id": "VMAvlo95Mday",
        "outputId": "49585ca0-690f-4214-9072-3ad0a035dc26"
      },
      "execution_count": null,
      "outputs": [
        {
          "output_type": "stream",
          "name": "stdout",
          "text": [
            "(53, 45.2, True, 'Afif', (1, 2, 3))\n"
          ]
        },
        {
          "output_type": "execute_result",
          "data": {
            "text/plain": [
              "tuple"
            ]
          },
          "metadata": {},
          "execution_count": 45
        }
      ]
    },
    {
      "cell_type": "code",
      "source": [
        "my_list=[53,45.2, True, 'Afif', (1,2,3)]\n",
        "print(my_list)\n",
        "type(my_list)"
      ],
      "metadata": {
        "colab": {
          "base_uri": "https://localhost:8080/"
        },
        "id": "QDIWlpRXNWhc",
        "outputId": "d737b3fb-20ad-49bc-9231-04dc78d9439a"
      },
      "execution_count": null,
      "outputs": [
        {
          "output_type": "stream",
          "name": "stdout",
          "text": [
            "[53, 45.2, True, 'Afif', (1, 2, 3)]\n"
          ]
        },
        {
          "output_type": "execute_result",
          "data": {
            "text/plain": [
              "list"
            ]
          },
          "metadata": {},
          "execution_count": 36
        }
      ]
    },
    {
      "cell_type": "code",
      "source": [
        "print(my_tuple[3])"
      ],
      "metadata": {
        "colab": {
          "base_uri": "https://localhost:8080/"
        },
        "id": "LZy2cMryNmAg",
        "outputId": "a4cce78e-019c-49f0-a459-94c64433f717"
      },
      "execution_count": null,
      "outputs": [
        {
          "output_type": "stream",
          "name": "stdout",
          "text": [
            "Afif\n"
          ]
        }
      ]
    },
    {
      "cell_type": "code",
      "source": [
        "print(my_list[2])"
      ],
      "metadata": {
        "colab": {
          "base_uri": "https://localhost:8080/"
        },
        "id": "58-kuTPHOeiF",
        "outputId": "6156401d-47ce-46e2-af1e-a72e58785995"
      },
      "execution_count": null,
      "outputs": [
        {
          "output_type": "stream",
          "name": "stdout",
          "text": [
            "True\n"
          ]
        }
      ]
    },
    {
      "cell_type": "code",
      "source": [
        "print(my_list[-2])"
      ],
      "metadata": {
        "colab": {
          "base_uri": "https://localhost:8080/"
        },
        "id": "rW1nNicxOhEQ",
        "outputId": "5e7b7b1c-ffc6-4445-9d52-eacdc16d821d"
      },
      "execution_count": null,
      "outputs": [
        {
          "output_type": "stream",
          "name": "stdout",
          "text": [
            "Afif\n"
          ]
        }
      ]
    },
    {
      "cell_type": "code",
      "source": [
        "print(my_list[2:4])"
      ],
      "metadata": {
        "colab": {
          "base_uri": "https://localhost:8080/"
        },
        "id": "4jUAWTKSPXrd",
        "outputId": "e5fb9bd4-54fb-4784-a326-5fd641e48f47"
      },
      "execution_count": null,
      "outputs": [
        {
          "output_type": "stream",
          "name": "stdout",
          "text": [
            "[True, 'Afif']\n"
          ]
        }
      ]
    },
    {
      "cell_type": "code",
      "source": [
        "print(my_tuple[2:4])"
      ],
      "metadata": {
        "colab": {
          "base_uri": "https://localhost:8080/"
        },
        "id": "jJRHAOctPbqx",
        "outputId": "a53d674e-f353-4e58-eb5f-34d5101d6ef7"
      },
      "execution_count": null,
      "outputs": [
        {
          "output_type": "stream",
          "name": "stdout",
          "text": [
            "(True, 'Afif')\n"
          ]
        }
      ]
    },
    {
      "cell_type": "code",
      "source": [
        "'afif' in my_tuple"
      ],
      "metadata": {
        "colab": {
          "base_uri": "https://localhost:8080/"
        },
        "id": "z6pzim0wPeXV",
        "outputId": "071d5374-24d8-4424-9943-9b1f6783cc1e"
      },
      "execution_count": null,
      "outputs": [
        {
          "output_type": "execute_result",
          "data": {
            "text/plain": [
              "False"
            ]
          },
          "metadata": {},
          "execution_count": 48
        }
      ]
    },
    {
      "cell_type": "code",
      "source": [
        "'Afif' in my_tuple"
      ],
      "metadata": {
        "colab": {
          "base_uri": "https://localhost:8080/"
        },
        "id": "PYa124WvP2Ra",
        "outputId": "0f7c76f6-2994-4385-e31f-d36aeb33f588"
      },
      "execution_count": null,
      "outputs": [
        {
          "output_type": "execute_result",
          "data": {
            "text/plain": [
              "True"
            ]
          },
          "metadata": {},
          "execution_count": 49
        }
      ]
    },
    {
      "cell_type": "code",
      "source": [
        "#perbedaan Tuple=Read Only(immutable) List()"
      ],
      "metadata": {
        "id": "qxMVYvAkP45d"
      },
      "execution_count": null,
      "outputs": []
    },
    {
      "cell_type": "code",
      "source": [
        "#menambah data \n",
        "my_list"
      ],
      "metadata": {
        "colab": {
          "base_uri": "https://localhost:8080/"
        },
        "id": "L5ok9R-3Q9Vv",
        "outputId": "3805fa65-096a-4b55-b251-026105fc83f0"
      },
      "execution_count": null,
      "outputs": [
        {
          "output_type": "execute_result",
          "data": {
            "text/plain": [
              "[53, 45.2, True, 'Afif', (1, 2, 3)]"
            ]
          },
          "metadata": {},
          "execution_count": 50
        }
      ]
    },
    {
      "cell_type": "code",
      "source": [
        "my_list.append('Hactiv8')\n",
        "my_list"
      ],
      "metadata": {
        "colab": {
          "base_uri": "https://localhost:8080/"
        },
        "id": "jJI85ezWREW-",
        "outputId": "19157971-7898-4919-c429-b3152036578c"
      },
      "execution_count": null,
      "outputs": [
        {
          "output_type": "execute_result",
          "data": {
            "text/plain": [
              "[53, 45.2, True, 'Afif', (1, 2, 3), 'Hactiv8', 'Hactiv8', 'Hactiv8']"
            ]
          },
          "metadata": {},
          "execution_count": 54
        }
      ]
    },
    {
      "cell_type": "code",
      "source": [
        "#dictionary\n",
        "my_dict={'nama':'Afif A. Iskandar','pekerjaan':'Data Scientist'}"
      ],
      "metadata": {
        "id": "etIBWrEYRUMm"
      },
      "execution_count": null,
      "outputs": []
    },
    {
      "cell_type": "code",
      "source": [
        "my_dict['nama']"
      ],
      "metadata": {
        "colab": {
          "base_uri": "https://localhost:8080/",
          "height": 36
        },
        "id": "Pp-_aSXjSdmL",
        "outputId": "6ef8f041-4f72-44eb-f932-f1906d563a76"
      },
      "execution_count": null,
      "outputs": [
        {
          "output_type": "execute_result",
          "data": {
            "text/plain": [
              "'Afif A. Iskandar'"
            ],
            "application/vnd.google.colaboratory.intrinsic+json": {
              "type": "string"
            }
          },
          "metadata": {},
          "execution_count": 56
        }
      ]
    },
    {
      "cell_type": "code",
      "source": [
        "my_dict['nama']='Handoko Mulyono'"
      ],
      "metadata": {
        "id": "BXXAdH83Sg0k"
      },
      "execution_count": null,
      "outputs": []
    },
    {
      "cell_type": "code",
      "source": [
        "my_dict"
      ],
      "metadata": {
        "colab": {
          "base_uri": "https://localhost:8080/"
        },
        "id": "xvxHquygS9ZL",
        "outputId": "3017b40b-de34-4274-c177-9a458ded8e74"
      },
      "execution_count": null,
      "outputs": [
        {
          "output_type": "execute_result",
          "data": {
            "text/plain": [
              "{'nama': 'Handoko Mulyono', 'pekerjaan': 'Data Scientist'}"
            ]
          },
          "metadata": {},
          "execution_count": 58
        }
      ]
    },
    {
      "cell_type": "code",
      "source": [
        "my_dict['domisili']='bandung'"
      ],
      "metadata": {
        "id": "W83vWIj0S-f4"
      },
      "execution_count": null,
      "outputs": []
    },
    {
      "cell_type": "code",
      "source": [
        "my_dict"
      ],
      "metadata": {
        "colab": {
          "base_uri": "https://localhost:8080/"
        },
        "id": "5SNMGpz1TEf_",
        "outputId": "c1e08fa2-f62e-44fe-ca43-07436499acfe"
      },
      "execution_count": null,
      "outputs": [
        {
          "output_type": "execute_result",
          "data": {
            "text/plain": [
              "{'nama': 'Handoko Mulyono',\n",
              " 'pekerjaan': 'Data Scientist',\n",
              " 'domisili': 'bandung'}"
            ]
          },
          "metadata": {},
          "execution_count": 61
        }
      ]
    },
    {
      "cell_type": "code",
      "source": [
        "del my_dict['pekerjaan']"
      ],
      "metadata": {
        "id": "He3okLFBTGgg"
      },
      "execution_count": null,
      "outputs": []
    },
    {
      "cell_type": "code",
      "source": [
        "my_dict"
      ],
      "metadata": {
        "colab": {
          "base_uri": "https://localhost:8080/"
        },
        "id": "1_xw5MePTQDx",
        "outputId": "7ca3a73a-44fc-44f3-bd55-30cfe7e54867"
      },
      "execution_count": null,
      "outputs": [
        {
          "output_type": "execute_result",
          "data": {
            "text/plain": [
              "{'nama': 'Handoko Mulyono', 'domisili': 'bandung'}"
            ]
          },
          "metadata": {},
          "execution_count": 63
        }
      ]
    },
    {
      "cell_type": "code",
      "source": [
        "#set\n",
        "my_set1={1,1,1,1,1,2,2,2,3,3,3,4,4,4,4,4,5,5,5,5}\n",
        "my_set2={3,6,9,12}\n",
        "my_set1.union(my_set2)"
      ],
      "metadata": {
        "colab": {
          "base_uri": "https://localhost:8080/"
        },
        "id": "Fdy61XgcTRMR",
        "outputId": "248dc64f-66c4-4bb9-8223-96dda00dc2dc"
      },
      "execution_count": null,
      "outputs": [
        {
          "output_type": "execute_result",
          "data": {
            "text/plain": [
              "{1, 2, 3, 4, 5, 6, 9, 12}"
            ]
          },
          "metadata": {},
          "execution_count": 67
        }
      ]
    },
    {
      "cell_type": "code",
      "source": [
        "my_set1.intersection(my_set2)"
      ],
      "metadata": {
        "colab": {
          "base_uri": "https://localhost:8080/"
        },
        "id": "Q628E7vvTbNA",
        "outputId": "23c4b9b6-93ab-40bd-ed93-46c2e0349e8f"
      },
      "execution_count": null,
      "outputs": [
        {
          "output_type": "execute_result",
          "data": {
            "text/plain": [
              "{3}"
            ]
          },
          "metadata": {},
          "execution_count": 69
        }
      ]
    },
    {
      "cell_type": "markdown",
      "source": [
        "String Formatting"
      ],
      "metadata": {
        "id": "ZhLxWwy1URZe"
      }
    },
    {
      "cell_type": "code",
      "source": [
        "nama='NgodingPython'"
      ],
      "metadata": {
        "id": "cZcIvekaT_lu"
      },
      "execution_count": null,
      "outputs": []
    },
    {
      "cell_type": "code",
      "source": [
        "nama[3]"
      ],
      "metadata": {
        "colab": {
          "base_uri": "https://localhost:8080/",
          "height": 36
        },
        "id": "yMpuTk4dUhRY",
        "outputId": "00330491-c5b8-4131-bbea-9d84a51c56bd"
      },
      "execution_count": null,
      "outputs": [
        {
          "output_type": "execute_result",
          "data": {
            "text/plain": [
              "'d'"
            ],
            "application/vnd.google.colaboratory.intrinsic+json": {
              "type": "string"
            }
          },
          "metadata": {},
          "execution_count": 71
        }
      ]
    },
    {
      "cell_type": "code",
      "source": [
        "nama[4:9]"
      ],
      "metadata": {
        "colab": {
          "base_uri": "https://localhost:8080/",
          "height": 36
        },
        "id": "dTC7Y9X0UjLf",
        "outputId": "9f563457-7a64-4f07-8cbd-189a3ef4c3bd"
      },
      "execution_count": null,
      "outputs": [
        {
          "output_type": "execute_result",
          "data": {
            "text/plain": [
              "'ingPy'"
            ],
            "application/vnd.google.colaboratory.intrinsic+json": {
              "type": "string"
            }
          },
          "metadata": {},
          "execution_count": 72
        }
      ]
    },
    {
      "cell_type": "code",
      "source": [
        "'p' in nama"
      ],
      "metadata": {
        "colab": {
          "base_uri": "https://localhost:8080/"
        },
        "id": "e7nJLyyoUoGv",
        "outputId": "3d142787-a3ae-4989-f3ca-8fcc9026116c"
      },
      "execution_count": null,
      "outputs": [
        {
          "output_type": "execute_result",
          "data": {
            "text/plain": [
              "False"
            ]
          },
          "metadata": {},
          "execution_count": 73
        }
      ]
    },
    {
      "cell_type": "code",
      "source": [
        "#f string\n",
        "nama='Afif'\n",
        "print(f'Nama saya {nama}')"
      ],
      "metadata": {
        "colab": {
          "base_uri": "https://localhost:8080/"
        },
        "id": "3re9tK-4UrVa",
        "outputId": "dcc0629f-a927-4100-9ea9-9a75f3b96674"
      },
      "execution_count": null,
      "outputs": [
        {
          "output_type": "stream",
          "name": "stdout",
          "text": [
            "Nama saya Afif\n"
          ]
        }
      ]
    }
  ]
}