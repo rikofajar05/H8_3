{
 "cells": [
  {
   "cell_type": "markdown",
   "metadata": {},
   "source": [
    "Conditional"
   ]
  },
  {
   "cell_type": "code",
   "execution_count": 2,
   "metadata": {},
   "outputs": [
    {
     "name": "stdout",
     "output_type": "stream",
     "text": [
      "halo\n",
      "hai\n"
     ]
    }
   ],
   "source": [
    "print('halo')\n",
    "print('hai')"
   ]
  },
  {
   "cell_type": "code",
   "execution_count": 3,
   "metadata": {},
   "outputs": [
    {
     "name": "stdout",
     "output_type": "stream",
     "text": [
      "19 lebih kecil dari 10\n"
     ]
    }
   ],
   "source": [
    "angka = 19\n",
    "print(f'{angka} lebih kecil dari 10')"
   ]
  },
  {
   "cell_type": "code",
   "execution_count": 4,
   "metadata": {},
   "outputs": [
    {
     "name": "stdout",
     "output_type": "stream",
     "text": [
      "8 lebih kecil dari 10\n",
      "ini masih di dalam if\n",
      "bagian ini tidak berpengaruh sintaks di atas\n"
     ]
    }
   ],
   "source": [
    "#dengan sintaks if\n",
    "angka = 8\n",
    "if angka < 10:\n",
    "    print(f'{angka} lebih kecil dari 10')\n",
    "    print('ini masih di dalam if')\n",
    "else:\n",
    "    print(f'{angka} lebih besar dari 10')\n",
    "    print('ini masih di dalam else')\n",
    "print('bagian ini tidak berpengaruh sintaks di atas')"
   ]
  },
  {
   "cell_type": "code",
   "execution_count": 5,
   "metadata": {},
   "outputs": [
    {
     "name": "stdout",
     "output_type": "stream",
     "text": [
      "yes1\n",
      "yes3\n",
      "yes4\n"
     ]
    }
   ],
   "source": [
    "x=0\n",
    "y=5\n",
    "if x<y:\n",
    "    print('yes1')\n",
    "if y<x:\n",
    "    print('yes2')\n",
    "if x:\n",
    "    print('yes2')\n",
    "if y:\n",
    "    print('yes3')\n",
    "if 'aul' in 'grault':\n",
    "    print('yes4')\n",
    "if 'quux' in ['foo', 'bar', 'baz']:\n",
    "    print('yes5')"
   ]
  },
  {
   "cell_type": "code",
   "execution_count": 6,
   "metadata": {},
   "outputs": [
    {
     "name": "stdout",
     "output_type": "stream",
     "text": [
      "Angka lebih besar dari 20\n",
      "Bilangan ganjil lebih besar dari 20\n"
     ]
    }
   ],
   "source": [
    "angka = 31\n",
    "if angka <20:\n",
    "    print('Angka lebih kecil dari 20')\n",
    "    \n",
    "    if angka %2 == 0:\n",
    "        print('Bilangan genap lebih kecil dari 20')\n",
    "else:\n",
    "    print('Angka lebih besar dari 20')\n",
    "    \n",
    "    if angka %2 != 0:\n",
    "        print('Bilangan ganjil lebih besar dari 20')"
   ]
  },
  {
   "cell_type": "code",
   "execution_count": 7,
   "metadata": {},
   "outputs": [
    {
     "name": "stdout",
     "output_type": "stream",
     "text": [
      "8 lebih kecil dari 10\n"
     ]
    }
   ],
   "source": [
    "#dengan sintaks if\n",
    "angka = 8\n",
    "if angka < 10:\n",
    "    print(f'{angka} lebih kecil dari 10')\n",
    "elif angka == 10:\n",
    "    print(f'{angka} sama dengan 10')\n",
    "else:\n",
    "    print(f'{angka} lebih besar dari 10')\n"
   ]
  },
  {
   "cell_type": "code",
   "execution_count": 8,
   "metadata": {},
   "outputs": [
    {
     "name": "stdout",
     "output_type": "stream",
     "text": [
      "i ke 1 halo dunia\n",
      "i ke 2 halo dunia\n",
      "i ke 3 halo dunia\n"
     ]
    }
   ],
   "source": [
    "#break\n",
    "i = 0\n",
    "while i < 10:\n",
    "    i += 1\n",
    "    if i == 4:\n",
    "        break\n",
    "    print(f\"i ke {i}\", \"halo dunia\")\n"
   ]
  },
  {
   "cell_type": "code",
   "execution_count": 9,
   "metadata": {},
   "outputs": [
    {
     "name": "stdout",
     "output_type": "stream",
     "text": [
      "i ke 2 halo dunia\n",
      "i ke 4 halo dunia\n",
      "i ke 6 halo dunia\n",
      "i ke 8 halo dunia\n",
      "i ke 10 halo dunia\n"
     ]
    }
   ],
   "source": [
    "#continue\n",
    "i = 0\n",
    "while i < 10:\n",
    "    i += 1\n",
    "    if i == 4:\n",
    "        continue\n",
    "    i += 1\n",
    "    print(f\"i ke {i}\", \"halo dunia\")"
   ]
  },
  {
   "cell_type": "code",
   "execution_count": 10,
   "metadata": {},
   "outputs": [
    {
     "name": "stdout",
     "output_type": "stream",
     "text": [
      "7 x 1 = 7\n",
      "7 x 2 = 14\n",
      "7 x 3 = 21\n",
      "7 x 4 = 28\n",
      "7 x 5 = 35\n",
      "7 x 6 = 42\n",
      "7 x 7 = 49\n",
      "7 x 8 = 56\n",
      "7 x 9 = 63\n",
      "7 x 10 = 70\n"
     ]
    }
   ],
   "source": [
    "i = 1\n",
    "while i <= 10:\n",
    "    print(f\"7 x {i} = {7*i}\")\n",
    "    i = i + 1"
   ]
  },
  {
   "cell_type": "code",
   "execution_count": 11,
   "metadata": {},
   "outputs": [
    {
     "name": "stdout",
     "output_type": "stream",
     "text": [
      "1 x 1 = 1\n",
      "1 x 2 = 2\n",
      "1 x 3 = 3\n",
      "1 x 4 = 4\n",
      "1 x 5 = 5\n",
      "1 x 6 = 6\n",
      "1 x 7 = 7\n",
      "1 x 8 = 8\n",
      "1 x 9 = 9\n",
      "1 x 10 = 10\n",
      "==================================================\n",
      "2 x 1 = 2\n",
      "2 x 2 = 4\n",
      "2 x 3 = 6\n",
      "2 x 4 = 8\n",
      "2 x 5 = 10\n",
      "2 x 6 = 12\n",
      "2 x 7 = 14\n",
      "2 x 8 = 16\n",
      "2 x 9 = 18\n",
      "2 x 10 = 20\n",
      "==================================================\n",
      "3 x 1 = 3\n",
      "3 x 2 = 6\n",
      "3 x 3 = 9\n",
      "3 x 4 = 12\n",
      "3 x 5 = 15\n",
      "3 x 6 = 18\n",
      "3 x 7 = 21\n",
      "3 x 8 = 24\n",
      "3 x 9 = 27\n",
      "3 x 10 = 30\n",
      "==================================================\n",
      "4 x 1 = 4\n",
      "4 x 2 = 8\n",
      "4 x 3 = 12\n",
      "4 x 4 = 16\n",
      "4 x 5 = 20\n",
      "4 x 6 = 24\n",
      "4 x 7 = 28\n",
      "4 x 8 = 32\n",
      "4 x 9 = 36\n",
      "4 x 10 = 40\n",
      "==================================================\n",
      "5 x 1 = 5\n",
      "5 x 2 = 10\n",
      "5 x 3 = 15\n",
      "5 x 4 = 20\n",
      "5 x 5 = 25\n",
      "5 x 6 = 30\n",
      "5 x 7 = 35\n",
      "5 x 8 = 40\n",
      "5 x 9 = 45\n",
      "5 x 10 = 50\n",
      "==================================================\n",
      "6 x 1 = 6\n",
      "6 x 2 = 12\n",
      "6 x 3 = 18\n",
      "6 x 4 = 24\n",
      "6 x 5 = 30\n",
      "6 x 6 = 36\n",
      "6 x 7 = 42\n",
      "6 x 8 = 48\n",
      "6 x 9 = 54\n",
      "6 x 10 = 60\n",
      "==================================================\n",
      "7 x 1 = 7\n",
      "7 x 2 = 14\n",
      "7 x 3 = 21\n",
      "7 x 4 = 28\n",
      "7 x 5 = 35\n",
      "7 x 6 = 42\n",
      "7 x 7 = 49\n",
      "7 x 8 = 56\n",
      "7 x 9 = 63\n",
      "7 x 10 = 70\n",
      "==================================================\n",
      "8 x 1 = 8\n",
      "8 x 2 = 16\n",
      "8 x 3 = 24\n",
      "8 x 4 = 32\n",
      "8 x 5 = 40\n",
      "8 x 6 = 48\n",
      "8 x 7 = 56\n",
      "8 x 8 = 64\n",
      "8 x 9 = 72\n",
      "8 x 10 = 80\n",
      "==================================================\n",
      "9 x 1 = 9\n",
      "9 x 2 = 18\n",
      "9 x 3 = 27\n",
      "9 x 4 = 36\n",
      "9 x 5 = 45\n",
      "9 x 6 = 54\n",
      "9 x 7 = 63\n",
      "9 x 8 = 72\n",
      "9 x 9 = 81\n",
      "9 x 10 = 90\n",
      "==================================================\n",
      "10 x 1 = 10\n",
      "10 x 2 = 20\n",
      "10 x 3 = 30\n",
      "10 x 4 = 40\n",
      "10 x 5 = 50\n",
      "10 x 6 = 60\n",
      "10 x 7 = 70\n",
      "10 x 8 = 80\n",
      "10 x 9 = 90\n",
      "10 x 10 = 100\n",
      "==================================================\n"
     ]
    }
   ],
   "source": [
    "i = 1\n",
    "j = 1\n",
    "while j <= 10:\n",
    "    while i <= 10:\n",
    "        print(f\"{j} x {i} = {j*i}\")\n",
    "        i += 1\n",
    "    i = 1\n",
    "    j += 1\n",
    "    print(\"=\"*50)"
   ]
  },
  {
   "cell_type": "code",
   "execution_count": 12,
   "metadata": {},
   "outputs": [
    {
     "name": "stdout",
     "output_type": "stream",
     "text": [
      "masih looping\n",
      "masih looping\n",
      "masih looping\n",
      "looping selesai\n"
     ]
    }
   ],
   "source": [
    "# else dalam looping\n",
    "i = 0\n",
    "while i < 5:\n",
    "    print(\"masih looping\")\n",
    "    i += 1\n",
    "    if i == 3:\n",
    "        break\n",
    "print(\"looping selesai\")"
   ]
  },
  {
   "cell_type": "code",
   "execution_count": 13,
   "metadata": {},
   "outputs": [
    {
     "name": "stdout",
     "output_type": "stream",
     "text": [
      "masih looping\n",
      "masih looping\n",
      "masih looping\n"
     ]
    }
   ],
   "source": [
    "i = 0\n",
    "while i < 5:\n",
    "    print(\"masih looping\")\n",
    "    i += 1\n",
    "    if i == 3:\n",
    "        break\n",
    "else:\n",
    "    print(\"looping selesai\")"
   ]
  },
  {
   "cell_type": "code",
   "execution_count": 14,
   "metadata": {},
   "outputs": [
    {
     "name": "stdout",
     "output_type": "stream",
     "text": [
      "Bukan bilangan prima\n"
     ]
    }
   ],
   "source": [
    "# cek bilangan prima\n",
    "angka = 20\n",
    "i = 2\n",
    "while i < angka:\n",
    "    if angka % i == 0:\n",
    "        print(\"Bukan bilangan prima\")\n",
    "        break\n",
    "    i += 1\n",
    "else:\n",
    "    print(\"Bilangan Prima\")\n",
    "    "
   ]
  },
  {
   "cell_type": "code",
   "execution_count": 15,
   "metadata": {},
   "outputs": [
    {
     "name": "stdout",
     "output_type": "stream",
     "text": [
      "Saya ingin makan buah Pepaya\n",
      "Saya ingin makan buah Mangga\n",
      "Saya ingin makan buah Pisang\n",
      "Saya ingin makan buah Jambu\n"
     ]
    }
   ],
   "source": [
    "buah = [\"Pepaya\", \"Mangga\", \"Pisang\", \"Jambu\"]\n",
    "for i in buah:\n",
    "    print(f\"Saya ingin makan buah {i}\")"
   ]
  },
  {
   "cell_type": "code",
   "execution_count": 16,
   "metadata": {},
   "outputs": [
    {
     "name": "stdout",
     "output_type": "stream",
     "text": [
      "7 x 1 = 7\n",
      "7 x 2 = 14\n",
      "7 x 3 = 21\n",
      "7 x 4 = 28\n",
      "7 x 5 = 35\n",
      "7 x 6 = 42\n",
      "7 x 7 = 49\n",
      "7 x 8 = 56\n",
      "7 x 9 = 63\n",
      "7 x 10 = 70\n"
     ]
    }
   ],
   "source": [
    "for i in [1,2,3,4,5,6,7,8,9,10]:\n",
    "    print(f'7 x {i} = {7*i}')"
   ]
  },
  {
   "cell_type": "code",
   "execution_count": 17,
   "metadata": {},
   "outputs": [
    {
     "data": {
      "text/plain": [
       "[0, 1, 2, 3, 4, 5, 6, 7, 8, 9]"
      ]
     },
     "execution_count": 17,
     "metadata": {},
     "output_type": "execute_result"
    }
   ],
   "source": [
    "#fungsi range\n",
    "list(range(0,10))"
   ]
  },
  {
   "cell_type": "code",
   "execution_count": 18,
   "metadata": {},
   "outputs": [
    {
     "name": "stdout",
     "output_type": "stream",
     "text": [
      "7 x 1 = 7\n",
      "7 x 2 = 14\n",
      "7 x 3 = 21\n",
      "7 x 4 = 28\n",
      "7 x 5 = 35\n",
      "7 x 6 = 42\n",
      "7 x 7 = 49\n",
      "7 x 8 = 56\n",
      "7 x 9 = 63\n",
      "7 x 10 = 70\n"
     ]
    }
   ],
   "source": [
    "for i in range(1,11):\n",
    "    print(f'7 x {i} = {7*i}')"
   ]
  },
  {
   "cell_type": "code",
   "execution_count": 19,
   "metadata": {},
   "outputs": [
    {
     "name": "stdout",
     "output_type": "stream",
     "text": [
      "Saya ingin makan buah Pepaya\n",
      "Saya ingin makan buah Mangga\n",
      "Saya ingin makan buah Pisang\n",
      "Saya ingin makan buah Jambu\n"
     ]
    }
   ],
   "source": [
    "buah = [\"Pepaya\", \"Mangga\", \"Pisang\", \"Jambu\"]\n",
    "for i in buah:\n",
    "    print(f\"Saya ingin makan buah {i}\")"
   ]
  },
  {
   "cell_type": "code",
   "execution_count": 20,
   "metadata": {},
   "outputs": [
    {
     "name": "stdout",
     "output_type": "stream",
     "text": [
      "Saya ingin makan buah Pepaya\n",
      "Saya ingin makan buah Mangga\n",
      "Saya ingin makan buah Pisang\n",
      "Saya ingin makan buah Jambu\n"
     ]
    }
   ],
   "source": [
    "idx = 0\n",
    "while idx < len(buah):\n",
    "    print(f\"Saya ingin makan buah {buah[idx]}\")\n",
    "    idx += 1"
   ]
  },
  {
   "cell_type": "code",
   "execution_count": 21,
   "metadata": {},
   "outputs": [
    {
     "name": "stdout",
     "output_type": "stream",
     "text": [
      "Saya ingin makan buah Pepaya\n",
      "Saya ingin makan buah Mangga\n",
      "Saya ingin makan buah Pisang\n",
      "Saya ingin makan buah Jambu\n"
     ]
    }
   ],
   "source": [
    "for idx in range (len(buah)):\n",
    "    print(f\"Saya ingin makan buah {buah[idx]}\")"
   ]
  },
  {
   "cell_type": "code",
   "execution_count": 22,
   "metadata": {},
   "outputs": [
    {
     "name": "stdout",
     "output_type": "stream",
     "text": [
      "1 x 1 = 1\n",
      "1 x 2 = 2\n",
      "1 x 3 = 3\n",
      "1 x 4 = 4\n",
      "1 x 5 = 5\n",
      "1 x 6 = 6\n",
      "1 x 7 = 7\n",
      "1 x 8 = 8\n",
      "1 x 9 = 9\n",
      "1 x 10 = 10\n",
      "==================================================\n",
      "2 x 1 = 2\n",
      "2 x 2 = 4\n",
      "2 x 3 = 6\n",
      "2 x 4 = 8\n",
      "2 x 5 = 10\n",
      "2 x 6 = 12\n",
      "2 x 7 = 14\n",
      "2 x 8 = 16\n",
      "2 x 9 = 18\n",
      "2 x 10 = 20\n",
      "==================================================\n",
      "3 x 1 = 3\n",
      "3 x 2 = 6\n",
      "3 x 3 = 9\n",
      "3 x 4 = 12\n",
      "3 x 5 = 15\n",
      "3 x 6 = 18\n",
      "3 x 7 = 21\n",
      "3 x 8 = 24\n",
      "3 x 9 = 27\n",
      "3 x 10 = 30\n",
      "==================================================\n",
      "4 x 1 = 4\n",
      "4 x 2 = 8\n",
      "4 x 3 = 12\n",
      "4 x 4 = 16\n",
      "4 x 5 = 20\n",
      "4 x 6 = 24\n",
      "4 x 7 = 28\n",
      "4 x 8 = 32\n",
      "4 x 9 = 36\n",
      "4 x 10 = 40\n",
      "==================================================\n",
      "5 x 1 = 5\n",
      "5 x 2 = 10\n",
      "5 x 3 = 15\n",
      "5 x 4 = 20\n",
      "5 x 5 = 25\n",
      "5 x 6 = 30\n",
      "5 x 7 = 35\n",
      "5 x 8 = 40\n",
      "5 x 9 = 45\n",
      "5 x 10 = 50\n",
      "==================================================\n",
      "6 x 1 = 6\n",
      "6 x 2 = 12\n",
      "6 x 3 = 18\n",
      "6 x 4 = 24\n",
      "6 x 5 = 30\n",
      "6 x 6 = 36\n",
      "6 x 7 = 42\n",
      "6 x 8 = 48\n",
      "6 x 9 = 54\n",
      "6 x 10 = 60\n",
      "==================================================\n",
      "7 x 1 = 7\n",
      "7 x 2 = 14\n",
      "7 x 3 = 21\n",
      "7 x 4 = 28\n",
      "7 x 5 = 35\n",
      "7 x 6 = 42\n",
      "7 x 7 = 49\n",
      "7 x 8 = 56\n",
      "7 x 9 = 63\n",
      "7 x 10 = 70\n",
      "==================================================\n",
      "8 x 1 = 8\n",
      "8 x 2 = 16\n",
      "8 x 3 = 24\n",
      "8 x 4 = 32\n",
      "8 x 5 = 40\n",
      "8 x 6 = 48\n",
      "8 x 7 = 56\n",
      "8 x 8 = 64\n",
      "8 x 9 = 72\n",
      "8 x 10 = 80\n",
      "==================================================\n",
      "9 x 1 = 9\n",
      "9 x 2 = 18\n",
      "9 x 3 = 27\n",
      "9 x 4 = 36\n",
      "9 x 5 = 45\n",
      "9 x 6 = 54\n",
      "9 x 7 = 63\n",
      "9 x 8 = 72\n",
      "9 x 9 = 81\n",
      "9 x 10 = 90\n",
      "==================================================\n",
      "10 x 1 = 10\n",
      "10 x 2 = 20\n",
      "10 x 3 = 30\n",
      "10 x 4 = 40\n",
      "10 x 5 = 50\n",
      "10 x 6 = 60\n",
      "10 x 7 = 70\n",
      "10 x 8 = 80\n",
      "10 x 9 = 90\n",
      "10 x 10 = 100\n",
      "==================================================\n"
     ]
    }
   ],
   "source": [
    "for j in range(1,11):\n",
    "    for i in range(1,11):\n",
    "        print(f\"{j} x {i} = {j*i}\")\n",
    "    print(\"=\"*50)"
   ]
  },
  {
   "cell_type": "code",
   "execution_count": null,
   "metadata": {},
   "outputs": [],
   "source": []
  }
 ],
 "metadata": {
  "kernelspec": {
   "display_name": "Python 3.10.0 64-bit",
   "language": "python",
   "name": "python3"
  },
  "language_info": {
   "codemirror_mode": {
    "name": "ipython",
    "version": 3
   },
   "file_extension": ".py",
   "mimetype": "text/x-python",
   "name": "python",
   "nbconvert_exporter": "python",
   "pygments_lexer": "ipython3",
   "version": "3.10.0"
  },
  "orig_nbformat": 4,
  "vscode": {
   "interpreter": {
    "hash": "a3de7b46f665fc0ff380d1a423aa34810feb206b86ee28255ae3e1cfddf7fe85"
   }
  }
 },
 "nbformat": 4,
 "nbformat_minor": 2
}
