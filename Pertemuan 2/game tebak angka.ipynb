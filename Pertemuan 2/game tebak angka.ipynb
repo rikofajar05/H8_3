{
 "cells": [
  {
   "cell_type": "code",
   "execution_count": 5,
   "metadata": {},
   "outputs": [
    {
     "name": "stdout",
     "output_type": "stream",
     "text": [
      "========================================\n",
      "Sistem telah memilih angka random, silakan mulai tebak!\n",
      "========================================\n",
      "Tebakanmu terlalu kecil\n",
      "Tebakanmu terlalu kecil\n",
      "Tebakanmu terlalu kecil\n",
      "\n",
      "Sayang sekali, kamu sudah salah menebak sebanyak 3x!\n"
     ]
    }
   ],
   "source": [
    "import random\n",
    "\n",
    "angka_random = random.randint(0, 9)\n",
    "\n",
    "\n",
    "print('=' * 40)\n",
    "print('Sistem telah memilih angka random, silakan mulai tebak!')\n",
    "print('=' * 40)\n",
    "\n",
    "batas_tebakan = 3\n",
    "for tebakan in range(batas_tebakan):\n",
    "  jawaban = int(input(f'\\n[Percobaan {tebakan + 1}] Masukkan tebakan angka: '))\n",
    "\n",
    "  if jawaban == angka_random:\n",
    "    print('Selamat, tebakanmu benar!')\n",
    "    print(f\"kamu benar dengan {tebakan+1} kali tebakan\")\n",
    "    break\n",
    "  else:\n",
    "    print(\n",
    "      'Tebakanmu terlalu',\n",
    "      'kecil' if jawaban < angka_rahasia else 'besar'\n",
    "    )\n",
    "else:\n",
    "  print(f'\\nSayang sekali, kamu sudah salah menebak sebanyak {batas_percobaan}x!')"
   ]
  },
  {
   "cell_type": "code",
   "execution_count": null,
   "metadata": {},
   "outputs": [],
   "source": []
  }
 ],
 "metadata": {
  "kernelspec": {
   "display_name": "Python 3.10.0 64-bit",
   "language": "python",
   "name": "python3"
  },
  "language_info": {
   "codemirror_mode": {
    "name": "ipython",
    "version": 3
   },
   "file_extension": ".py",
   "mimetype": "text/x-python",
   "name": "python",
   "nbconvert_exporter": "python",
   "pygments_lexer": "ipython3",
   "version": "3.10.0"
  },
  "orig_nbformat": 4,
  "vscode": {
   "interpreter": {
    "hash": "a3de7b46f665fc0ff380d1a423aa34810feb206b86ee28255ae3e1cfddf7fe85"
   }
  }
 },
 "nbformat": 4,
 "nbformat_minor": 2
}
