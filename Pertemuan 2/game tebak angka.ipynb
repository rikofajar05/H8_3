{
 "cells": [
  {
   "cell_type": "code",
   "execution_count": 15,
   "metadata": {},
   "outputs": [
    {
     "name": "stdout",
     "output_type": "stream",
     "text": [
      "========================================\n",
      "Kami telah memiliki angka, silakan tebak!\n",
      "========================================\n",
      "Selamat, tebakanmu benar!\n",
      "kamu benar dengan 1 percobaan\n"
     ]
    }
   ],
   "source": [
    "import random\n",
    "\n",
    "angka_rahasia = random.randint(0, 9)\n",
    "\n",
    "\n",
    "print('=' * 40)\n",
    "print('Kami telah memiliki angka, silakan tebak!')\n",
    "print('=' * 40)\n",
    "\n",
    "batas_percobaan = 3\n",
    "for percobaan in range(batas_percobaan):\n",
    "  jawaban = int(input(f'\\n[Percobaan {percobaan + 1}] Masukkan angka: '))\n",
    "\n",
    "  if jawaban == angka_rahasia:\n",
    "    print('Selamat, tebakanmu benar!')\n",
    "    print(f\"kamu benar dengan {percobaan+1} percobaan\")\n",
    "    break\n",
    "  else:\n",
    "    print(\n",
    "      'Tebakanmu terlalu',\n",
    "      'kecil' if jawaban < angka_rahasia else 'besar'\n",
    "    )\n",
    "else:\n",
    "  print(f'\\nSayang sekali, kamu sudah salah menebak sebanyak {batas_percobaan}x!')"
   ]
  },
  {
   "cell_type": "code",
   "execution_count": null,
   "metadata": {},
   "outputs": [],
   "source": []
  }
 ],
 "metadata": {
  "kernelspec": {
   "display_name": "Python 3.10.0 64-bit",
   "language": "python",
   "name": "python3"
  },
  "language_info": {
   "codemirror_mode": {
    "name": "ipython",
    "version": 3
   },
   "file_extension": ".py",
   "mimetype": "text/x-python",
   "name": "python",
   "nbconvert_exporter": "python",
   "pygments_lexer": "ipython3",
   "version": "3.10.0"
  },
  "orig_nbformat": 4,
  "vscode": {
   "interpreter": {
    "hash": "a3de7b46f665fc0ff380d1a423aa34810feb206b86ee28255ae3e1cfddf7fe85"
   }
  }
 },
 "nbformat": 4,
 "nbformat_minor": 2
}
