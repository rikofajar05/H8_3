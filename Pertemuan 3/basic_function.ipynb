{
 "cells": [
  {
   "cell_type": "markdown",
   "metadata": {},
   "source": [
    "Fungsi pada Python"
   ]
  },
  {
   "cell_type": "code",
   "execution_count": 6,
   "metadata": {},
   "outputs": [],
   "source": [
    "# fungsi sederhana\n",
    "def sapa():\n",
    "    print(\"Halo peserta kursus Python\")\n",
    "    print(\"dari program kampus merdeka\")"
   ]
  },
  {
   "cell_type": "code",
   "execution_count": 2,
   "metadata": {},
   "outputs": [],
   "source": [
    "a=12"
   ]
  },
  {
   "cell_type": "code",
   "execution_count": 3,
   "metadata": {},
   "outputs": [
    {
     "data": {
      "text/plain": [
       "12"
      ]
     },
     "execution_count": 3,
     "metadata": {},
     "output_type": "execute_result"
    }
   ],
   "source": [
    "a"
   ]
  },
  {
   "cell_type": "code",
   "execution_count": 5,
   "metadata": {},
   "outputs": [
    {
     "name": "stdout",
     "output_type": "stream",
     "text": [
      "Halo peserta kursus Python\n",
      "dari program kampus merdeka\n"
     ]
    }
   ],
   "source": [
    "#eksekusi fungsi\n",
    "sapa()"
   ]
  },
  {
   "cell_type": "code",
   "execution_count": null,
   "metadata": {},
   "outputs": [],
   "source": [
    "# fungsi dengan 1 argumen\n",
    "def sapa_nama(nama):\n",
    "    \"Fungsi untuk print string yang ditulis di bawah ini\"\n",
    "    print(f\"Halo {nama}\")\n",
    "    print(\"dari program kampus merdeka\")"
   ]
  },
  {
   "cell_type": "code",
   "execution_count": 8,
   "metadata": {},
   "outputs": [
    {
     "ename": "NameError",
     "evalue": "name 'sapa_nama' is not defined",
     "output_type": "error",
     "traceback": [
      "\u001b[1;31m---------------------------------------------------------------------------\u001b[0m",
      "\u001b[1;31mNameError\u001b[0m                                 Traceback (most recent call last)",
      "\u001b[1;32md:\\Math UNS\\SI\\Project H8\\Pertemuan 3\\basic_function.ipynb Cell 7\u001b[0m in \u001b[0;36m<cell line: 1>\u001b[1;34m()\u001b[0m\n\u001b[1;32m----> <a href='vscode-notebook-cell:/d%3A/Math%20UNS/SI/Project%20H8/Pertemuan%203/basic_function.ipynb#W6sZmlsZQ%3D%3D?line=0'>1</a>\u001b[0m sapa_nama(\u001b[39m\"\u001b[39m\u001b[39mafif\u001b[39m\u001b[39m\"\u001b[39m)\n",
      "\u001b[1;31mNameError\u001b[0m: name 'sapa_nama' is not defined"
     ]
    }
   ],
   "source": [
    "sapa_nama(\"afif\")"
   ]
  },
  {
   "cell_type": "code",
   "execution_count": null,
   "metadata": {},
   "outputs": [],
   "source": [
    "#fungsi lebih dari 1 parameter\n",
    "def penjumlahan(angka_1, angka_2):\n",
    "    \"Fungsi ini akan menjumlahkan 2 angka yang dimasukkan ke dalam fungsi\"\n",
    "    return angka_1 + angka_2"
   ]
  },
  {
   "cell_type": "code",
   "execution_count": null,
   "metadata": {},
   "outputs": [],
   "source": []
  },
  {
   "cell_type": "code",
   "execution_count": null,
   "metadata": {},
   "outputs": [],
   "source": [
    "#fungsi yg mengembalikkan nilai\n",
    "def penjumlahan_2(angka_1, angka_2):\n",
    "    return angka_1 + angka_2"
   ]
  },
  {
   "cell_type": "code",
   "execution_count": 10,
   "metadata": {},
   "outputs": [
    {
     "ename": "NameError",
     "evalue": "name 'penjumlahan_2' is not defined",
     "output_type": "error",
     "traceback": [
      "\u001b[1;31m---------------------------------------------------------------------------\u001b[0m",
      "\u001b[1;31mNameError\u001b[0m                                 Traceback (most recent call last)",
      "\u001b[1;32md:\\Math UNS\\SI\\Project H8\\Pertemuan 3\\basic_function.ipynb Cell 11\u001b[0m in \u001b[0;36m<cell line: 1>\u001b[1;34m()\u001b[0m\n\u001b[1;32m----> <a href='vscode-notebook-cell:/d%3A/Math%20UNS/SI/Project%20H8/Pertemuan%203/basic_function.ipynb#X12sZmlsZQ%3D%3D?line=0'>1</a>\u001b[0m penjumlahan_2(\u001b[39m10\u001b[39m, \u001b[39m9\u001b[39m)\n",
      "\u001b[1;31mNameError\u001b[0m: name 'penjumlahan_2' is not defined"
     ]
    }
   ],
   "source": [
    "penjumlahan_2(10, 9)"
   ]
  },
  {
   "cell_type": "code",
   "execution_count": null,
   "metadata": {},
   "outputs": [],
   "source": [
    "hasil = penjumlahan_2\n"
   ]
  },
  {
   "cell_type": "markdown",
   "metadata": {},
   "source": [
    "Pass by reference vs Value"
   ]
  },
  {
   "cell_type": "code",
   "execution_count": 17,
   "metadata": {},
   "outputs": [
    {
     "name": "stdout",
     "output_type": "stream",
     "text": [
      "7\n",
      "7\n"
     ]
    }
   ],
   "source": [
    "a = 7\n",
    "b = a\n",
    "print(a)\n",
    "print(b)"
   ]
  },
  {
   "cell_type": "code",
   "execution_count": 18,
   "metadata": {},
   "outputs": [
    {
     "data": {
      "text/plain": [
       "16"
      ]
     },
     "execution_count": 18,
     "metadata": {},
     "output_type": "execute_result"
    }
   ],
   "source": [
    "a = a + 9\n",
    "a"
   ]
  },
  {
   "cell_type": "code",
   "execution_count": 19,
   "metadata": {},
   "outputs": [
    {
     "data": {
      "text/plain": [
       "7"
      ]
     },
     "execution_count": 19,
     "metadata": {},
     "output_type": "execute_result"
    }
   ],
   "source": [
    "b"
   ]
  },
  {
   "cell_type": "code",
   "execution_count": 15,
   "metadata": {},
   "outputs": [
    {
     "data": {
      "text/plain": [
       "[100, 2, 3]"
      ]
     },
     "execution_count": 15,
     "metadata": {},
     "output_type": "execute_result"
    }
   ],
   "source": [
    "a = [1,2,3]\n",
    "b = a\n",
    "a[0] = 100\n",
    "a"
   ]
  },
  {
   "cell_type": "code",
   "execution_count": 16,
   "metadata": {},
   "outputs": [
    {
     "data": {
      "text/plain": [
       "[100, 2, 3]"
      ]
     },
     "execution_count": 16,
     "metadata": {},
     "output_type": "execute_result"
    }
   ],
   "source": [
    "b"
   ]
  },
  {
   "cell_type": "code",
   "execution_count": 25,
   "metadata": {},
   "outputs": [],
   "source": [
    "# required argument & positional argument\n",
    "def biodata(nama, usia):\n",
    "    \"menampilkan biodata dari input yang dimasukkan\"\n",
    "    print(f\"halo nama saya {nama} dan usia saya {usia} tahun\")"
   ]
  },
  {
   "cell_type": "code",
   "execution_count": 24,
   "metadata": {},
   "outputs": [
    {
     "name": "stdout",
     "output_type": "stream",
     "text": [
      "halo nama sayaAfif dan usia saya 17 tahun\n"
     ]
    }
   ],
   "source": [
    "#panggil fungsi dengan required argument\n",
    "#posisi harus benar\n",
    "biodata(\"Afif\", \"17\")"
   ]
  },
  {
   "cell_type": "code",
   "execution_count": 26,
   "metadata": {},
   "outputs": [
    {
     "name": "stdout",
     "output_type": "stream",
     "text": [
      "halo nama saya Afif dan usia saya 17 tahun\n"
     ]
    }
   ],
   "source": [
    "# keyword argment\n",
    "biodata(usia=17, nama=\"Afif\")"
   ]
  },
  {
   "cell_type": "code",
   "execution_count": 29,
   "metadata": {},
   "outputs": [],
   "source": [
    "# default argumen\n",
    "def biodata(nama, usia, pekerjaan=\"Data Scientist\"):\n",
    "    \"menampilkan biodata dari input yang dimasukkan\"\n",
    "    print(f\"halo nama saya {nama} dan usia saya {usia} tahun\")\n",
    "    print(f\"pekerjaan saya adalah {pekerjaan}\")"
   ]
  },
  {
   "cell_type": "code",
   "execution_count": 30,
   "metadata": {},
   "outputs": [
    {
     "name": "stdout",
     "output_type": "stream",
     "text": [
      "halo nama saya Afif dan usia saya 17 tahun\n",
      "pekerjaan saya adalah Data Scientist\n"
     ]
    }
   ],
   "source": [
    "biodata(\"Afif\", \"17\")"
   ]
  },
  {
   "cell_type": "code",
   "execution_count": 31,
   "metadata": {},
   "outputs": [
    {
     "name": "stdout",
     "output_type": "stream",
     "text": [
      "halo nama saya Afif dan usia saya 17 tahun\n",
      "pekerjaan saya adalah Instructor DS\n"
     ]
    }
   ],
   "source": [
    "biodata(\"Afif\", \"17\", \"Instructor DS\")"
   ]
  },
  {
   "cell_type": "code",
   "execution_count": 34,
   "metadata": {},
   "outputs": [],
   "source": [
    "# Variable-length arguments\n",
    "def penjumlahan(a, b, c):\n",
    "    result = a + b + c\n",
    "    return result"
   ]
  },
  {
   "cell_type": "code",
   "execution_count": 35,
   "metadata": {},
   "outputs": [
    {
     "data": {
      "text/plain": [
       "19"
      ]
     },
     "execution_count": 35,
     "metadata": {},
     "output_type": "execute_result"
    }
   ],
   "source": [
    "penjumlahan(10,5,4)"
   ]
  },
  {
   "cell_type": "code",
   "execution_count": 45,
   "metadata": {},
   "outputs": [],
   "source": [
    "#args parameter in function\n",
    "def penjumlahan(*angka):\n",
    "    hasil = 0\n",
    "    for item in angka:\n",
    "        hasil += item\n",
    "    return hasil"
   ]
  },
  {
   "cell_type": "code",
   "execution_count": 47,
   "metadata": {},
   "outputs": [
    {
     "data": {
      "text/plain": [
       "116"
      ]
     },
     "execution_count": 47,
     "metadata": {},
     "output_type": "execute_result"
    }
   ],
   "source": [
    "penjumlahan(1,2,3,4,5,6,7,67,3,4,5,6,3)"
   ]
  },
  {
   "cell_type": "code",
   "execution_count": 55,
   "metadata": {},
   "outputs": [],
   "source": [
    "# **kwargs params in function\n",
    "def biodata(**data):\n",
    "    print(\"Biodata Pegawai\")\n",
    "    for k, v in data.items():\n",
    "        print(f\"{k}\\t: {v}\")\n",
    "    "
   ]
  },
  {
   "cell_type": "code",
   "execution_count": 56,
   "metadata": {},
   "outputs": [
    {
     "name": "stdout",
     "output_type": "stream",
     "text": [
      "Biodata Pegawai\n",
      "Nama\t: Afif\n",
      "Usia\t: 17\n"
     ]
    }
   ],
   "source": [
    "biodata(Nama=\"Afif\", Usia=17)"
   ]
  },
  {
   "cell_type": "markdown",
   "metadata": {},
   "source": [
    "### Global & Local Variable"
   ]
  },
  {
   "cell_type": "code",
   "execution_count": 62,
   "metadata": {},
   "outputs": [],
   "source": [
    "my_var = 'Hacktiv8'\n",
    "def fungsi_1():\n",
    "    print(f\"Jangan lupa subscribe channel {my_var}\")\n",
    "def fungsi_2():\n",
    "    print(f\"Memanggil var {my_var} dari fungsi 2\")"
   ]
  },
  {
   "cell_type": "code",
   "execution_count": 63,
   "metadata": {},
   "outputs": [
    {
     "name": "stdout",
     "output_type": "stream",
     "text": [
      "Memanggil var Hacktiv8 dari fungsi 2\n"
     ]
    }
   ],
   "source": [
    "fungsi_2()"
   ]
  },
  {
   "cell_type": "code",
   "execution_count": 66,
   "metadata": {},
   "outputs": [],
   "source": [
    "#Local Variable\n",
    "def fungsi_3():\n",
    "    nama = \"Afif\"\n",
    "    print(f\"nama saya {nama}\")\n",
    "    print(\"String di atas diprint di dalam fungsi\")"
   ]
  },
  {
   "cell_type": "code",
   "execution_count": 67,
   "metadata": {},
   "outputs": [
    {
     "name": "stdout",
     "output_type": "stream",
     "text": [
      "nama saya Afif\n",
      "String di atas diprint di dalam fungsi\n"
     ]
    }
   ],
   "source": [
    "fungsi_3()"
   ]
  },
  {
   "cell_type": "code",
   "execution_count": 68,
   "metadata": {},
   "outputs": [],
   "source": [
    "import fungsi"
   ]
  },
  {
   "cell_type": "code",
   "execution_count": 69,
   "metadata": {},
   "outputs": [
    {
     "data": {
      "text/plain": [
       "20"
      ]
     },
     "execution_count": 69,
     "metadata": {},
     "output_type": "execute_result"
    }
   ],
   "source": [
    "fungsi.perkalian(4,5)"
   ]
  },
  {
   "cell_type": "code",
   "execution_count": 70,
   "metadata": {},
   "outputs": [
    {
     "data": {
      "text/plain": [
       "100"
      ]
     },
     "execution_count": 70,
     "metadata": {},
     "output_type": "execute_result"
    }
   ],
   "source": [
    "# cara import kedua\n",
    "import fungsi as fx\n",
    "fx.perkalian(50,2)"
   ]
  },
  {
   "cell_type": "code",
   "execution_count": 71,
   "metadata": {},
   "outputs": [
    {
     "data": {
      "text/plain": [
       "50"
      ]
     },
     "execution_count": 71,
     "metadata": {},
     "output_type": "execute_result"
    }
   ],
   "source": [
    "# cara import ketiga\n",
    "from fungsi import perkalian\n",
    "perkalian(10,5)"
   ]
  },
  {
   "cell_type": "code",
   "execution_count": 72,
   "metadata": {},
   "outputs": [
    {
     "name": "stdout",
     "output_type": "stream",
     "text": [
      "Halo apa kabar\n",
      "Ada error di bagian try\n",
      "2\n"
     ]
    }
   ],
   "source": [
    "try:\n",
    "    print(\"Halo apa kabar\")\n",
    "    print(halo)\n",
    "except:\n",
    "    print(\"Ada error di bagian try\")\n",
    "print(1+1)"
   ]
  },
  {
   "cell_type": "code",
   "execution_count": 75,
   "metadata": {},
   "outputs": [],
   "source": [
    "from random import randint\n",
    "angka_komputer = randint(1,10)"
   ]
  },
  {
   "cell_type": "code",
   "execution_count": null,
   "metadata": {},
   "outputs": [],
   "source": []
  }
 ],
 "metadata": {
  "kernelspec": {
   "display_name": "Python 3.10.0 64-bit",
   "language": "python",
   "name": "python3"
  },
  "language_info": {
   "codemirror_mode": {
    "name": "ipython",
    "version": 3
   },
   "file_extension": ".py",
   "mimetype": "text/x-python",
   "name": "python",
   "nbconvert_exporter": "python",
   "pygments_lexer": "ipython3",
   "version": "3.10.0"
  },
  "orig_nbformat": 4,
  "vscode": {
   "interpreter": {
    "hash": "a3de7b46f665fc0ff380d1a423aa34810feb206b86ee28255ae3e1cfddf7fe85"
   }
  }
 },
 "nbformat": 4,
 "nbformat_minor": 2
}
